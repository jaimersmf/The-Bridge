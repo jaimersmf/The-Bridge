{
 "cells": [
  {
   "cell_type": "markdown",
   "metadata": {},
   "source": [
    "![imagen](./img/ejercicios.png)\n",
    "\n",
    "# Ejercicios Clases y Objetos"
   ]
  },
  {
   "attachments": {},
   "cell_type": "markdown",
   "metadata": {},
   "source": [
    "## Ejercicio 1\n",
    "Somos una empresa que tiene varias tiendas de electrodomésticos. Necesitamos un programa para manejar las tiendas, ver las ventas que han tenido, cuántos empleados hay, etc... Para ello vamos a modelizar la tienda en una clase, que tendrá las siguientes características:\n",
    "* Nombre clase: \"Tienda\"\n",
    "* Atributos comunes:\n",
    "    * Tipo: \"Electrodomésticos\"\n",
    "    * Abierta: True\n",
    "* Atributos propios de cada tienda:\n",
    "    * Nombre - String\n",
    "    * Dirección - String\n",
    "    * Número de empleados - int\n",
    "    * Ventas últimos 3 meses - Lista de 3 numeros\n",
    "* Método para calcular las ventas de todos los meses, que devuelva un número con todas las ventas.\n",
    "* Método que calcula la media de ventas de los últimos meses, por empleado\n",
    "* Método que devuelve en un string el nombre de la tienda, junto con su dirección.\n",
    "* Método que obtiene las ventas del último mes.\n",
    "* Método para dar una proyección de las ventas en caso de haber invertido X dinero en marketing en esa tienda. Siendo X el parámetro de entrada. Si X es menor de 1000, las ventas de los ultimos 3 meses hubiesen sido de (1.2 x ventas), si es mayor o igual de 1000, las ventas hubiesen sido de (1.5 x venta). El método reescribe el atributo de ventas en los últimos 3 meses, y además devuelve las ventas con el aumento.\n",
    "\n",
    "Se pide:\n",
    "1. Implementar la clase \"Tienda\"\n",
    "2. Crear tres tiendas con datos inventados\n",
    "3. Comprueba en al menos una de ellas, todo lo implementado en la clase tienda (sus atributos, media de ventas, ventas/empleado...)\n",
    "3. Calcular las ventas del último mes de todas las tiendas. Para ello usa el bucle `for`\n",
    "4. Imprime por pantalla los nombres de las tiendas cuya dirección lleve el string \"Avenida\"\n",
    "5. Seguro que ya has hecho este apartado... Documenta la clase :)"
   ]
  },
  {
   "cell_type": "code",
   "execution_count": null,
   "metadata": {},
   "outputs": [
    {
     "name": "stdout",
     "output_type": "stream",
     "text": [
      "Total ventas: 124 con  2 empleados y una media de pedidos de 62.0\n",
      "Como voy a invertir 1000 euros en la tienda, los pedidos estimados son: 186.0\n"
     ]
    },
    {
     "data": {
      "text/plain": [
       "['Bar Patxi']"
      ]
     },
     "execution_count": 6,
     "metadata": {},
     "output_type": "execute_result"
    }
   ],
   "source": [
    "# AQUÍ VA VUESTRO CÓDIGO\n",
    "class Tienda:\n",
    "    \"\"\"\n",
    "    Representa una tienda de electrodomésticos.\n",
    "\n",
    "    Atributos de clase:\n",
    "    - Tipo (str): Categoría de la tienda (siempre \"Electrodomesticos\").\n",
    "    - Abierta (bool): Estado de la tienda (True por defecto).\n",
    "\n",
    "    Atributos de instancia:\n",
    "    - Nombre (str): Nombre de la tienda.\n",
    "    - Direccion (str): Ubicación de la tienda.\n",
    "    - Num_empleados (int): Número de empleados que trabajan en la tienda.\n",
    "    - Venta_3_meses (list[int]): Lista con las ventas de los últimos 3 meses.\n",
    "\n",
    "    Métodos:\n",
    "    - __init__: Inicializa un objeto de la clase Tienda.\n",
    "    \"\"\"\n",
    "    \n",
    "    Tipo = \"Electrodomesticos\"\n",
    "    Abierta = True\n",
    "\n",
    "    def __init__(self, Nombre, Direccion, Num_empleados, Venta_3_meses):\n",
    "        self.Nombre = Nombre\n",
    "        self.Direccion = Direccion\n",
    "        self.Num_empleados = Num_empleados\n",
    "        self.Venta_3_meses = Venta_3_meses\n",
    "\n",
    "    def totalVentas(self) -> int:\n",
    "        return sum(self.Venta_3_meses)\n",
    "\n",
    "    def mediaVentasPorEmpleado(self) -> float:\n",
    "        if not self.Num_empleados:\n",
    "            return 0\n",
    "        return sum(self.Venta_3_meses) / self.Num_empleados\n",
    "\n",
    "\n",
    "    def nombreydir(self) -> str:\n",
    "        return self.Nombre + \" \" + self.Direccion\n",
    "\n",
    "    def ventasUltimoMes(self) -> int:\n",
    "        return self.Venta_3_meses[-1]\n",
    "\n",
    "    def proyeccion(self, dinero) -> float:\n",
    "        if dinero < 1000:\n",
    "            [valor * 1.2 for valor in self.Venta_3_meses]\n",
    "            return sum(self.Venta_3_meses) * 1.2\n",
    "        [valor * 1.5 for valor in self.Venta_3_meses]\n",
    "        return sum(self.Venta_3_meses) * 1.5\n",
    "\n",
    "\n",
    "#2\n",
    "tienda1 = Tienda(\"Bar Patxi\",\"Avenida Calleja\", 2, [24, 44, 56])\n",
    "tienda2 = Tienda(\"Pacos\",\"Unicosta\", 2, [2, 4, 14])\n",
    "tienda3 = Tienda(\"Tore\",\"Italiani\", 13, [34, 54, 104])\n",
    "#3\n",
    "tienda1.nombreydir()\n",
    "print(\"Total ventas:\", tienda1.totalVentas(), \"con \", tienda1.Num_empleados, \"empleados y una media de pedidos de\", tienda1.mediaVentasPorEmpleado())\n",
    "print(\"Como voy a invertir 1000 euros en la tienda, los pedidos estimados son:\", tienda1.proyeccion(1000))\n",
    "tienda1.Venta_3_meses\n",
    "\n",
    "tiendas = [tienda1, tienda2, tienda3]\n",
    "#5\n",
    "[tienda.Nombre for tienda in tiendas if \"Avenida\" in tienda.Direccion]\n"
   ]
  },
  {
   "cell_type": "markdown",
   "metadata": {},
   "source": [
    "## Ejercicio 2\n",
    "En este ejercicio vamos a implementar una clase *Perro* en Python. La clase tiene las siguientes características:\n",
    "* Cosas que sabemos seguro que tiene un perro\n",
    "    * Tiene 4 patas\n",
    "    * 2 orejas\n",
    "    * 2 ojos\n",
    "    * Una velocidad de 0. Por defecto, el perro está parado\n",
    "* Cuando se inicialice:\n",
    "    * El perro será de una determinada raza\n",
    "    * Por defecto tendrá pelo \"Marrón\", a no ser que se diga lo contrario.\n",
    "    * Por defecto no tendrá dueño, a no ser que se diga lo contrario.\n",
    "    \n",
    "* Dispondrá también de un método llamado andar, que tiene un argumento de entrada (aumento_velocidad). Este valor se le sumará a la velocidad que ya llevaba el perro.\n",
    "* Necesita otro método (parar), donde pondremos la velocidad a 0.\n",
    "* Otro método llamado \"ladrar\", que tendrá un argumento de entrada, y la salida será el siguiente string: \"GUAU!\" + el argumento de entrada.\n",
    "\n",
    "\n",
    "Se pide:\n",
    "* Implementa la clase *Perro*\n",
    "* Crea un objeto de tipo *Perro*, sin dueño\n",
    "* Comprueba que están bien todos sus atributos\n",
    "* Prueba que ande, y comprueba su velocidad\n",
    "* Páralo\n",
    "* Documenta la clase *Perro*"
   ]
  },
  {
   "cell_type": "code",
   "execution_count": null,
   "metadata": {},
   "outputs": [
    {
     "name": "stdout",
     "output_type": "stream",
     "text": [
      "Los atributos del perro: Patas: 4 Orejas: 2 Ojos: 2 Velocidad: 0chiguaguaMarron\n",
      "Parece que corre el chiguagua 200\n",
      "Parece que corre el chiguagua 0.0\n"
     ]
    }
   ],
   "source": [
    "# AQUÍ VA VUESTRO CÓDIGO\n",
    "class Perro:\n",
    "    \"\"\"\n",
    "    Representa un perro con características generales y atributos personalizables.\n",
    "\n",
    "    Atributos de clase:\n",
    "    - patas (int): Número de patas (4 por defecto).\n",
    "    - orejas (int): Número de orejas (2 por defecto).\n",
    "    - ojos (int): Número de ojos (2 por defecto).\n",
    "    - velocidad (int): Velocidad del perro (0 por defecto).\n",
    "\n",
    "    Atributos de instancia:\n",
    "    - raza (str): Raza del perro.\n",
    "    - dueño (str): Nombre del dueño (vacío por defecto si no tiene).\n",
    "    - pelo (str): Color del pelo (Marrón por defecto).\n",
    "\n",
    "    Métodos:\n",
    "    - __init__: Inicializa un objeto de la clase Perro.\n",
    "    \"\"\"\n",
    "    patas = 4\n",
    "    orejas = 2\n",
    "    ojos = 2\n",
    "    velocidad = 0\n",
    "\n",
    "    def __init__(self, raza, dueño = \"\", pelo = \"Marron\"):\n",
    "        self.raza = raza\n",
    "        self.dueño = dueño\n",
    "        self.pelo = pelo\n",
    "\n",
    "    def andar(self, aumento_vel):\n",
    "        self.velocidad += aumento_vel\n",
    "    def parar(self):\n",
    "        self.velocidad = 0.\n",
    "    def ladrar (self, argumento = \"\"):\n",
    "        return \"GUAU \" + argumento\n",
    "    def caracteristicas(self):\n",
    "        return \"Patas: \" + str(self.patas) + \" Orejas: \" + str(self.orejas) + \" Ojos: \" + str(self.ojos) + \" Velocidad: \" + str(self.velocidad) + self.raza + self.dueño + self.pelo\n",
    "perro1 = Perro(\"chiguagua\")\n",
    "print(\"Los atributos del perro:\", perro1.caracteristicas())\n",
    "\n",
    "perro1.andar(200)\n",
    "print(\"Parece que corre el chiguagua\", perro1.velocidad)\n",
    "perro1.parar()\n",
    "print(\"Parece que corre el chiguagua\", perro1.velocidad)"
   ]
  }
 ],
 "metadata": {
  "kernelspec": {
   "display_name": "Python 3",
   "language": "python",
   "name": "python3"
  },
  "language_info": {
   "codemirror_mode": {
    "name": "ipython",
    "version": 3
   },
   "file_extension": ".py",
   "mimetype": "text/x-python",
   "name": "python",
   "nbconvert_exporter": "python",
   "pygments_lexer": "ipython3",
   "version": "3.11.9"
  }
 },
 "nbformat": 4,
 "nbformat_minor": 4
}
